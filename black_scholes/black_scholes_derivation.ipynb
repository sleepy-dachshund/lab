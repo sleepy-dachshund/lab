{
 "cells": [
  {
   "cell_type": "markdown",
   "source": [
    "### Derivation of PDE -- Black-Scholes Equation"
   ],
   "metadata": {
    "collapsed": false
   },
   "id": "7c6b6103585819be"
  },
  {
   "cell_type": "markdown",
   "source": [
    "We have a portfolio consisting of a long position in a European call option and a short position in the underlying. Here the underlying is a non-dividend-paying stock. The value of the portfolio at time $t$ is given by:\n",
    "\n",
    "$$\\Pi = V(S,t) - \\Delta S$$\n",
    "\n",
    "The change in the value of the portfolio over a small time interval $\\delta t$ is given by:\n",
    "\n",
    "$$d\\Pi = dV - \\Delta dS$$\n",
    "\n",
    "Where Delta is fixed between time steps.\n",
    "\n",
    "Using Ito's Lemma, we know dV is given by the Taylor Expansion of V around S and t:\n",
    "\n",
    "$$dV = \\frac{\\delta V}{\\delta t}dt + \\frac{\\delta V}{\\delta S}dS + \\frac{1}{2}\\sigma^2 S^2 \\frac{\\delta^2 V}{\\delta S^2}dt$$\n",
    "\n",
    "So we can substitute that into the equation for $d\\Pi$:\n",
    "\n",
    "$$d\\Pi = \\frac{\\delta V}{\\delta t}dt + \\frac{\\delta V}{\\delta S}dS + \\frac{1}{2}\\sigma^2 S^2 \\frac{\\delta^2 V}{\\delta S^2}dt - \\Delta dS$$\n",
    "\n",
    "Note here that the dt terms are deterministic, and the dS terms are stochastic.\n",
    "\n",
    "So if we choose $\\Delta$ such that the portfolio is risk-free, i.e. $\\Delta = \\frac{\\delta V}{\\delta S} = \\frac{V^+ - V^-}{S^+ - S^-}$, then the randomness is reduced to zero and the drift term of the portfolio should be equal to the risk-free rate. \n",
    "\n",
    "So we have:\n",
    "\n",
    "$$d\\Pi = (\\frac{\\delta V}{\\delta t} + \\frac{1}{2}\\sigma^2 S^2 \\frac{\\delta^2 V}{\\delta S^2})dt$$\n",
    "\n",
    "Under the assumption of no arbitrage, the drift of the riskless/hedged portfolio should be equal to the risk-free rate. So we have:\n",
    "\n",
    "$$d\\Pi = r\\Pi dt$$\n",
    "\n",
    "Substituting the expression for dPi into the equation for the portfolio value, we get:\n",
    "\n",
    "$$(\\frac{\\delta V}{\\delta t} + \\frac{1}{2}\\sigma^2 S^2 \\frac{\\delta^2 V}{\\delta S^2})dt = r(V - S\\frac{\\delta V}{\\delta S})dt$$\n",
    "\n",
    "Now divide by dt and rearrange to get the Nobel Prize winning Black-Scholes Equation:\n",
    "\n",
    "$$\\frac{\\delta V}{\\delta t} + \\frac{1}{2}\\sigma^2S^2\\frac{\\delta^2 V}{\\delta S^2} + rS\\frac{\\delta V}{\\delta S} - rV = 0$$"
   ],
   "metadata": {
    "collapsed": false
   },
   "id": "d0bd8d663e7df397"
  },
  {
   "cell_type": "markdown",
   "source": [
    "### Observations"
   ],
   "metadata": {
    "collapsed": false
   },
   "id": "1494392058cb286d"
  },
  {
   "cell_type": "markdown",
   "source": [
    "- This equation has no randomness in it, it's purely deterministic\n",
    "- This is a linear parabolic PDE\n",
    "    - If one option costs V then 3 options costs 3V\n",
    "    - In a portfolio of options V1 and V2, the cost is V1+V2\n",
    "- There's no mention of the drift rate $\\mu$ of the stock price\n",
    "    - This means that if two people agree on the volatility of an asset, they will agree on the value of its derivatives even if they have differing estimates of the drift\n"
   ],
   "metadata": {
    "collapsed": false
   },
   "id": "8a7bb9a6016b8772"
  },
  {
   "cell_type": "markdown",
   "source": [
    "### Black-Scholes Formula -- Solving the Equation"
   ],
   "metadata": {
    "collapsed": false
   },
   "id": "4c6ae4633c5aeaaf"
  },
  {
   "cell_type": "markdown",
   "source": [
    "Steps:\n",
    "1. Define the option price as a function of the stock price and time: $V(S,t)$\n",
    "2. Define the payoff conditions:\n",
    "    - $V(S,T) = max(S-K,0)$ for a call option\n",
    "    - $V(S,T) = max(K-S,0)$ for a put option\n",
    "        - where T is the expiration date\n",
    "3. Define the boundary conditions: \n",
    "    - Calls\n",
    "        -  When S --> 0, V --> 0\n",
    "        - When S --> $\\infty$, V --> S\n",
    "    - Puts\n",
    "        - When S --> $\\infty$, V --> 0\n",
    "        - When S --> 0, use put-call parity to get V --> K\n",
    "4. Use substitutions and transformations to reduce the BSE to a one-dimensional heat equation\n",
    "\n",
    "Change from present value to future value terms.\n",
    "Recalling that the payoff is received at time T but that we are valuing the option at time t, this suggests we write:\n",
    "\n",
    "$$V(S,t) = e^{-r(T-t)}U(S,t)$$\n",
    "$$\\frac{\\delta V}{\\delta t} = re^{-r(T-t)}U+e^{-r(T-t)}\\frac{\\delta U}{\\delta S}$$\n",
    "\n",
    "Which takes our differential equation to:\n",
    "\n",
    "$$\\frac{\\delta U}{\\delta t} + \\frac{1}{2}\\sigma^2 S^2 \\frac{\\delta^2 U}{\\delta S^2} + rS\\frac{\\delta U}{\\delta S} = 0$$\n",
    "\n",
    "Note this is the backward Kolmogorov equation and -rV has vanished, so its role is for present valuing.\n",
    "\n",
    "Make some substitutions:\n",
    "\n",
    "$$\\tau = T-t$$\n",
    "$$\\xi = log(S)$$\n",
    "\n",
    "Which gives us:\n",
    "\n",
    "$$\\frac{\\delta U}{\\delta \\tau} = \\frac{1}{2}\\sigma^2 \\frac{\\delta^2 U}{\\delta \\xi^2} + (r-\\frac{1}{2}\\sigma^2)\\frac{\\delta U}{\\delta \\xi}$$\n",
    "\n",
    "Now make some simple but unintuitive substitutions, translating the coordinate system... like using the forward price of the asset instead of the spot price as a variable:\n",
    "\n",
    "$$x = \\xi + (r-\\frac{1}{2}\\sigma^2)\\tau$$\n",
    "$$U = X(x,\\tau)$$\n",
    "\n",
    "Using chain rule for partial derivatives we get a simpler Black-Scholes:\n",
    "\n",
    "$$\\frac{\\delta W}{\\delta \\tau} = \\frac{1}{2}\\sigma^2 \\frac{\\delta^2 W}{\\delta x^2}$$\n",
    "\n",
    "5. Solve the heat equation using similarity reduction\n",
    "\n",
    "first step here is to find the special solution of the above, the fundamental solution, which is the probability density function for a Normal random variable x having mean x' and stndard deviation $\\sigma \\sqrt{\\tau}$:\n",
    "\n",
    "$$W(x,\\tau) = \\frac{1}{\\sqrt{2\\pi \\tau}\\sigma}e^{-\\frac{(x-x')^2}{2\\sigma^2\\tau}}$$\n",
    "\n",
    "Note in the above that as less and less time remains, the function is confined to a narrower and narrower region.\n",
    "\n",
    "6. Unwind the transformations\n",
    "\n",
    "Use the linearity of the equation and the useful properties of the special solution to find the general solution of the equation.\n",
    "\n",
    "$$V(S,t) = \\frac{e^{-r(T-t)}}{\\sigma \\sqrt{2\\pi(T-t)}}\\int_{0}^{\\infty}e^{-\\frac{(log(S/S')+(r-\\frac{1}{2}\\sigma^2)(T-t))^2}{2\\sigma^2(T-t)}}Payoff(S')\\frac{dS'}{S'}$$\n",
    "\n",
    "This is a beast, but it's just a transition density function for a stock price. \n",
    "It's the present value of the expected payoff, where the present value piece is the numerator on the left of the integral.\n",
    "We take the payoff, multiply it by the probability of the stock price being at a certain level, and integrate over all possible stock prices.\n",
    "\n",
    "\n",
    "7. Substitute the payoff conditions and simplify to get the Black-Scholes formulas.\n",
    "\n"
   ],
   "metadata": {
    "collapsed": false
   },
   "id": "e2d05e8d7b2ffc5a"
  },
  {
   "cell_type": "markdown",
   "source": [
    "### The Formulas"
   ],
   "metadata": {
    "collapsed": false
   },
   "id": "863276a01b0c00cc"
  },
  {
   "cell_type": "markdown",
   "source": [
    "Call Option:\n",
    "\n",
    "$$V(S,t) = SN(d1) - Ke^{-r(T-t)}N(d2)$$\n",
    "\n",
    "Put Option:\n",
    "\n",
    "$$V(S,t) = -SN(-d1) + Ke^{-r(T-t)}N(-d2)$$\n",
    "\n",
    "Where:\n",
    "\n",
    "$$d1 = \\frac{log(S/K) + (r + \\frac{1}{2}\\sigma^2)(T-t)}{\\sigma \\sqrt{T-t}}$$\n",
    "\n",
    "$$d2 = \\frac{log(S/K) + (r - \\frac{1}{2}\\sigma^2)(T-t)}{\\sigma \\sqrt{T-t}} = d1 - \\sigma\\sqrt{T-t}$$\n",
    "\n",
    "$$N(x) = \\frac{1}{\\sqrt{2\\pi}}\\int_{-\\infty}^{x}e^{-\\frac{1}{2}\\phi^2}d\\phi$$"
   ],
   "metadata": {
    "collapsed": false
   },
   "id": "3d31af5137e180d8"
  }
 ],
 "metadata": {
  "kernelspec": {
   "display_name": "Python 3",
   "language": "python",
   "name": "python3"
  },
  "language_info": {
   "codemirror_mode": {
    "name": "ipython",
    "version": 2
   },
   "file_extension": ".py",
   "mimetype": "text/x-python",
   "name": "python",
   "nbconvert_exporter": "python",
   "pygments_lexer": "ipython2",
   "version": "2.7.6"
  }
 },
 "nbformat": 4,
 "nbformat_minor": 5
}
